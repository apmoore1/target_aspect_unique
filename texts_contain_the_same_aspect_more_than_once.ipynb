{
  "nbformat": 4,
  "nbformat_minor": 0,
  "metadata": {
    "colab": {
      "name": "texts contain the same aspect more than once.ipynb",
      "provenance": [],
      "collapsed_sections": [],
      "authorship_tag": "ABX9TyMze2qtLYg2pV2oL9+Pa+bw",
      "include_colab_link": true
    },
    "kernelspec": {
      "name": "python3",
      "display_name": "Python 3"
    }
  },
  "cells": [
    {
      "cell_type": "markdown",
      "metadata": {
        "id": "view-in-github",
        "colab_type": "text"
      },
      "source": [
        "<a href=\"https://colab.research.google.com/github/apmoore1/target_aspect_unique/blob/master/texts_contain_the_same_aspect_more_than_once.ipynb\" target=\"_parent\"><img src=\"https://colab.research.google.com/assets/colab-badge.svg\" alt=\"Open In Colab\"/></a>"
      ]
    },
    {
      "cell_type": "code",
      "metadata": {
        "id": "HtPBz5ZkwQiQ",
        "colab_type": "code",
        "colab": {}
      },
      "source": [
        "%%capture\n",
        "!pip install git+git://github.com/apmoore1/target-extraction.git@v0.0.2#egg=target_extraction"
      ],
      "execution_count": 0,
      "outputs": []
    },
    {
      "cell_type": "markdown",
      "metadata": {
        "id": "PaxhVGPry8we",
        "colab_type": "text"
      },
      "source": [
        "# SemEval 2015 and 2016 datasets do the texts contain the same aspect more than once?\n",
        "\n",
        "The title is the question we are going to answer here. We are only going to look at sentences that contain (target, aspect, sentiment) where aspect can also be an (entity, aspect) pair. The reason why an aspect or (entity, aspect) pair can occur more than once in a text is because it is attached to a target that is within the text. Thus there could be the following case:\n",
        "\n",
        "```\n",
        "The CPU memory is great, but the RAM is not\n",
        "```\n",
        "\n",
        "Given this text we could have the following annotations (memory, MEMORY, positive) and (RAM, MEMORY, negative) where the following represent (target, aspect, sentiment). Thus in this case the MEMORY aspect has occured twice in the same text. The reason we want to see if this occurs or not in the SemEval datasets is to see if we could treat the target sentiment problem as just a text/sentence level aspect based sentiment analysis task. Further whether when trying to identify aspects whether this has to be done at the target level or if it could be done at the text/sentence level. As shown by this example if it was treated a text level aspect based sentiment problem it would have to get one of the two samples wrong as the aspect occurs twice with two different sentiments.\n",
        "\n",
        "To analysis this we first need to load the datasets. The datasets that have the following annotations (target, aspect, sentiment) are:\n",
        "1. [Restaurant SemEval 2015 Train.](http://alt.qcri.org/semeval2015/task12/index.php?id=data-and-tools)\n",
        "2. [Restaurant SemEval 2015 Test.](http://alt.qcri.org/semeval2015/task12/index.php?id=data-and-tools)\n",
        "3. [Restaurant SemEval 2016 Train.](http://alt.qcri.org/semeval2016/task5/index.php?id=data-and-tools)\n",
        "4. [Restaurant SemEval 2016 Test.](http://alt.qcri.org/semeval2016/task5/index.php?id=data-and-tools)\n",
        "\n",
        "There are more SemEval datasets from the 2016 edition that contian this annotation format. However for now we are only going to look at these datasets."
      ]
    },
    {
      "cell_type": "code",
      "metadata": {
        "id": "RIwiYZEExsIw",
        "colab_type": "code",
        "colab": {}
      },
      "source": [
        "from collections import Counter\n",
        "from pathlib import Path\n",
        "\n",
        "from google.colab import files\n",
        "from target_extraction.dataset_parsers import semeval_2016\n",
        "from target_extraction.data_types import TargetTextCollection\n",
        "\n",
        "# SemEval 2014 Laptop and Restaurant\n",
        "semeval_dataset_fp = {'Restaurant Train 2015': Path('ABSA-15_Restaurants_Train_Final.xml'),\n",
        "                      'Restaurant Test 2015': Path('ABSA15_Restaurants_Test.xml'),\n",
        "                      'Restaurant Train 2016': Path('ABSA16_Restaurants_Train_SB1_v2.xml'),\n",
        "                      'Restaurant Test 2016': Path('EN_REST_SB1_TEST_2016.xml')}\n",
        "semeval_dataset = {}\n",
        "for dataset_name, fp in semeval_dataset_fp.items():\n",
        "  if not fp.exists():\n",
        "    print(f'Upload {dataset_name}')\n",
        "    files.upload()\n",
        "  semeval_dataset[dataset_name] = semeval_2016(fp, conflict=True)\n"
      ],
      "execution_count": 0,
      "outputs": []
    },
    {
      "cell_type": "code",
      "metadata": {
        "id": "QSjLIO9A2eXq",
        "colab_type": "code",
        "colab": {}
      },
      "source": [
        "# SemEval Restaurant\n",
        "restaurant_train = semeval_dataset['Restaurant Train 2015']\n",
        "restaurant_test = semeval_dataset['Restaurant Test 2015']\n",
        "restaurant_combined_2015 = TargetTextCollection.combine(restaurant_train, \n",
        "                                                        restaurant_test)\n",
        "restaurant_combined_2015.name = 'Restaurant 2015'\n",
        "\n",
        "restaurant_train = semeval_dataset['Restaurant Train 2016']\n",
        "restaurant_test = semeval_dataset['Restaurant Test 2016']\n",
        "restaurant_combined_2016 = TargetTextCollection.combine(restaurant_train, \n",
        "                                                        restaurant_test)\n",
        "restaurant_combined_2016.name = 'Restaurant 2016'"
      ],
      "execution_count": 0,
      "outputs": []
    },
    {
      "cell_type": "markdown",
      "metadata": {
        "id": "5AUUa25Mv31y",
        "colab_type": "text"
      },
      "source": [
        "To confirm that we have the data correct we shall check that the total number of aspects/categories for the datasets matches those that are in the papers:\n",
        "1. For Restaurant 2015 we should have 2499 according to [Pontiki et al. 2015](https://www.aclweb.org/anthology/S15-2082.pdf)\n",
        "2. For Restaurant 2016 we should have 3366 according to [Pontiki et al. 2016](https://www.aclweb.org/anthology/S16-1002.pdf)"
      ]
    },
    {
      "cell_type": "code",
      "metadata": {
        "id": "X4b8mS9EvX_d",
        "colab_type": "code",
        "outputId": "d612ff6c-c0a0-44ee-8715-a97ed9ee136c",
        "colab": {
          "base_uri": "https://localhost:8080/",
          "height": 51
        }
      },
      "source": [
        "print(f'Number of aspects in Restaurant 2015 '\n",
        "      f'{restaurant_combined_2015.number_categories()}')\n",
        "print(f'Number of aspects in Restaurant 2016 '\n",
        "      f'{restaurant_combined_2016.number_categories()}')"
      ],
      "execution_count": 8,
      "outputs": [
        {
          "output_type": "stream",
          "text": [
            "Number of aspects in Restaurant 2015 2499\n",
            "Number of aspects in Restaurant 2016 3366\n"
          ],
          "name": "stdout"
        }
      ]
    },
    {
      "cell_type": "markdown",
      "metadata": {
        "id": "qX15s2ijwRL_",
        "colab_type": "text"
      },
      "source": [
        "It would appear from above that we have parsed that dataset correctly as we match the number of aspects in the original paper.\n",
        "\n",
        "We now move on to see how many sentences and the number of aspects that are affected if we treat the task as a text level aspect task instead of taking into the target:"
      ]
    },
    {
      "cell_type": "code",
      "metadata": {
        "id": "MhHX2T6Nwd9u",
        "colab_type": "code",
        "outputId": "74731c79-b8f8-4554-ad64-21431c679159",
        "colab": {
          "base_uri": "https://localhost:8080/",
          "height": 119
        }
      },
      "source": [
        "def aspects_affected(dataset: TargetTextCollection) -> None:\n",
        "  number_texts_wrong = 0\n",
        "  number_wrong = 0\n",
        "  number_text_wrong_diff = 0\n",
        "  number_diff_wrong = 0\n",
        "  for key, value in dataset.items():\n",
        "    aspects_in_text = value['categories']\n",
        "    all_aspect_sentiments = value['target_sentiments']\n",
        "    if aspects_in_text is None:\n",
        "      assert value['targets'] is None\n",
        "      continue\n",
        "    number_aspects = len(aspects_in_text)\n",
        "    aspect_count = Counter(aspects_in_text)\n",
        "    aspect_count_diff = number_aspects - len(aspect_count)\n",
        "    if aspect_count_diff != 0:\n",
        "      number_texts_wrong += 1\n",
        "      number_wrong += aspect_count_diff\n",
        "\n",
        "      # This is a more fine grained analysis that looks at if the aspects that \n",
        "      # do occur more than once in a text, occur more than once with a \n",
        "      # different sentiment in the text. As if they all have the same sentiment \n",
        "      # to some degree you can just get anyway with not duplicating the aspect\n",
        "      # even though the aspects should be attached to a target.\n",
        "      number_text_wrong_diff_bool = False\n",
        "      aspects_occur_more_than_once = [aspect for aspect, count in aspect_count.items() \n",
        "                                      if count > 1]\n",
        "      for aspect in aspects_occur_more_than_once:\n",
        "        aspect_sentiments = set()\n",
        "        for index, sentiment in enumerate(all_aspect_sentiments):\n",
        "          if aspects_in_text[index] == aspect:\n",
        "            aspect_sentiments.add(sentiment)\n",
        "        if len(aspect_sentiments) > 1:\n",
        "          number_text_wrong_diff_bool = True\n",
        "          number_diff_wrong += aspect_count[aspect]\n",
        "      if number_text_wrong_diff_bool:\n",
        "        number_text_wrong_diff += 1\n",
        "      #print(aspects_occur_more_than_once)\n",
        "      #print(aspect_count)\n",
        "  number_samples = dataset.number_categories()\n",
        "  percent_wrong = round((number_wrong / float(number_samples)) * 100, 2)\n",
        "  percent_text_wrong = round((number_texts_wrong / float(number_samples)) * 100, 2)\n",
        "  \n",
        "  percent_diff_wrong = round((number_diff_wrong / float(number_samples)) * 100, 2)\n",
        "  percent_diff_text_wrong = round((number_text_wrong_diff / float(number_samples)) * 100, 2)\n",
        "  print(f'For the dataset {dataset.name} which contains {number_samples} '\n",
        "        f'samples and {len(dataset)} texts\\n{number_texts_wrong}'\n",
        "        f'({percent_text_wrong}%) texts and {number_wrong}'\n",
        "        f'({percent_wrong}%) samples are affected.\\n{number_text_wrong_diff}'\n",
        "        f'({percent_diff_text_wrong}%) texts and {number_diff_wrong}'\n",
        "        f'({percent_diff_wrong}%) samples are affected with respect to having a '\n",
        "        'different sentiment.')\n",
        "  \n",
        "aspects_affected(restaurant_combined_2015)\n",
        "aspects_affected(restaurant_combined_2016)"
      ],
      "execution_count": 15,
      "outputs": [
        {
          "output_type": "stream",
          "text": [
            "For the dataset Restaurant 2015 which contains 2499 samples and 2000 texts\n",
            "188(7.52%) texts and 246(9.84%) samples are affected.\n",
            "41(1.64%) texts and 92(3.68%) samples are affected with respect to having a different sentiment.\n",
            "For the dataset Restaurant 2016 which contains 3366 samples and 2676 texts\n",
            "255(7.58%) texts and 365(10.84%) samples are affected.\n",
            "50(1.49%) texts and 110(3.27%) samples are affected with respect to having a different sentiment.\n"
          ],
          "name": "stdout"
        }
      ]
    },
    {
      "cell_type": "markdown",
      "metadata": {
        "id": "Q4epKq_57AR6",
        "colab_type": "text"
      },
      "source": [
        "As we can see from the two datasets it shows that up to 11% of samples are affected and up to 8% of texts are affected, whereby the texts can contain more than one of the same aspect. However only up to 4% of samples and up to 2% of texts contain more than one of the same aspect, but where those same aspects have different sentiments like the example given at the start of the notebook on the aspect MEMORY. This shows that in the majority of cases when an aspect does occur more than once for the same text it does so with the same sentiment, thus allowing you to some degree to get anyway with using aspect based text level methods and ignoring the target. However by doing so you will not be able to accurately classify up to 4% of samples that do contain texts with multiple of the same aspects with different sentiments.\n",
        "\n",
        "# How many implicit targets are there?\n",
        "\n",
        "In these datasets some of the targets are implicit. This can be found when the target value is `None` while the aspect exisits. An example of this can be seen below: "
      ]
    },
    {
      "cell_type": "code",
      "metadata": {
        "id": "gpiak8WC8DGX",
        "colab_type": "code",
        "outputId": "4919d789-6b6d-41bf-faa1-69ec0de496e0",
        "colab": {
          "base_uri": "https://localhost:8080/",
          "height": 136
        }
      },
      "source": [
        "for key, value in restaurant_combined_2015['P#3:3'].items():\n",
        "  print(f'{key}: {value}')"
      ],
      "execution_count": 0,
      "outputs": [
        {
          "output_type": "stream",
          "text": [
            "text: Cool atmosphere, the fire place in the back really ads to it but needs a bit more heat throughout on a cold night.\n",
            "text_id: P#3:3\n",
            "targets: ['atmosphere', 'fire place', None]\n",
            "spans: [Span(start=5, end=15), Span(start=21, end=31), Span(start=0, end=0)]\n",
            "target_sentiments: ['positive', 'positive', 'negative']\n",
            "categories: ['AMBIENCE#GENERAL', 'AMBIENCE#GENERAL', 'AMBIENCE#GENERAL']\n",
            "category_sentiments: None\n"
          ],
          "name": "stdout"
        }
      ]
    },
    {
      "cell_type": "markdown",
      "metadata": {
        "id": "1XsFOYFn8kZL",
        "colab_type": "text"
      },
      "source": [
        "This particular example shows how difficult it would be to identify these implicit examples as the aspect already appears explictly in the text. However we are here to answer the question of how many implicit targets there are:"
      ]
    },
    {
      "cell_type": "code",
      "metadata": {
        "id": "CuRt8S-H85-W",
        "colab_type": "code",
        "outputId": "01d91c00-777f-4f7a-8d3a-6e2d12eae311",
        "colab": {
          "base_uri": "https://localhost:8080/",
          "height": 85
        }
      },
      "source": [
        "def implicit_targets(dataset: TargetTextCollection) -> None:\n",
        "  number_implicit_texts = 0\n",
        "  number_implicit_targets = 0\n",
        "  for key, value in dataset.items():\n",
        "    targets = value['targets']\n",
        "    aspects = value['categories']\n",
        "    if targets is None:\n",
        "      continue\n",
        "    text_is_implicit = False\n",
        "    for target, aspect in zip(targets, aspects):\n",
        "      if target is None:\n",
        "        assert not aspect is None\n",
        "        number_implicit_targets += 1\n",
        "        text_is_implicit = True\n",
        "    if text_is_implicit:\n",
        "      number_implicit_texts += 1\n",
        "  number_samples = dataset.number_categories()\n",
        "  percent_texts = round((number_implicit_texts / float(number_samples)) * 100, 2)\n",
        "  percent_targets = round((number_implicit_targets / float(number_samples)) * 100, 2)\n",
        "  print(f'For the dataset {dataset.name} which contains {number_samples} '\n",
        "        f'samples and {len(dataset)} texts\\n{number_implicit_texts}'\n",
        "        f'({percent_texts}%) texts and {number_implicit_targets}'\n",
        "        f'({percent_targets}%) samples are implicit.')\n",
        "  \n",
        "implicit_targets(restaurant_combined_2015)\n",
        "implicit_targets(restaurant_combined_2016)"
      ],
      "execution_count": 0,
      "outputs": [
        {
          "output_type": "stream",
          "text": [
            "For the dataset Restaurant 2015 which contains 2499 samples and 2000 texts\n",
            "566(22.65%) texts and 621(24.85%) samples are implicit.\n",
            "For the dataset Restaurant 2016 which contains 3366 samples and 2676 texts\n",
            "766(22.76%) texts and 832(24.72%) samples are implicit.\n"
          ],
          "name": "stdout"
        }
      ]
    },
    {
      "cell_type": "markdown",
      "metadata": {
        "id": "UVihSbCj_2DT",
        "colab_type": "text"
      },
      "source": [
        "We can see that at least 25% of the samples contain implicit sentiment!"
      ]
    }
  ]
}